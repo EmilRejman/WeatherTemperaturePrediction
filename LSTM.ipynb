{
 "cells": [
  {
   "cell_type": "code",
   "execution_count": 11,
   "metadata": {
    "collapsed": true
   },
   "outputs": [
    {
     "data": {
      "text/plain": "<torch._C.Generator at 0x25474893150>"
     },
     "execution_count": 11,
     "metadata": {},
     "output_type": "execute_result"
    }
   ],
   "source": [
    "\n",
    "import torch\n",
    "import torch.nn as nn\n",
    "import torch.nn.functional as F\n",
    "import matplotlib.pylab as plt\n",
    "import numpy as np\n",
    "%matplotlib inline\n",
    "\n",
    "torch.manual_seed(2)"
   ]
  },
  {
   "cell_type": "markdown",
   "source": [
    "# prepare data"
   ],
   "metadata": {
    "collapsed": false,
    "pycharm": {
     "name": "#%% md\n"
    }
   }
  },
  {
   "cell_type": "code",
   "execution_count": 12,
   "outputs": [
    {
     "name": "stdout",
     "output_type": "stream",
     "text": [
      "Index(['LAT', 'LON', 'YEAR', 'MONTH', 'DAY', 'T2M_RANGE', 'T2M', 'RH2M', 'PS',\n",
      "       'WS50M', 'WS10M', 'WS50M_RANGE', 'WS10M_RANGE', 'ALLSKY_SFC_SW_DWN',\n",
      "       'DAY_OF_YEAR', 'SEASONAL', 'T2M_diff'],\n",
      "      dtype='object')\n"
     ]
    }
   ],
   "source": [
    "import pickle\n",
    "import pandas as pd\n",
    "\n",
    "with open('raw_data.pkl', 'rb') as fp:\n",
    "    raw_data = pickle.load(fp)\n",
    "\n",
    "print(raw_data.columns)\n"
   ],
   "metadata": {
    "collapsed": false,
    "pycharm": {
     "name": "#%% define data\n"
    }
   }
  },
  {
   "cell_type": "code",
   "execution_count": 13,
   "outputs": [
    {
     "name": "stdout",
     "output_type": "stream",
     "text": [
      "(1823, 20)\n",
      "(1458, 12) (365, 12)\n",
      "(1458, 3) (365, 3)\n",
      "[[ 4.27000000e+00 -1.60000000e-01  9.00600000e+01 ...  2.00000000e+00\n",
      "  -1.26130522e+01  1.59000000e+00]\n",
      " [ 2.99000000e+00  1.21000000e+00  8.61100000e+01 ...  3.00000000e+00\n",
      "  -1.36998399e+01  1.37000000e+00]\n",
      " [ 2.93000000e+00 -7.00000000e-02  8.57400000e+01 ...  4.00000000e+00\n",
      "  -1.33798810e+01 -1.28000000e+00]\n",
      " ...\n",
      " [ 2.25000000e+00  1.51000000e+00  9.75000000e+01 ...  3.61000000e+02\n",
      "  -6.98674398e+00  5.30000000e-01]\n",
      " [ 1.90000000e+00  2.47000000e+00  9.69400000e+01 ...  3.62000000e+02\n",
      "  -8.58981932e+00  9.60000000e-01]\n",
      " [ 3.29000000e+00  9.60000000e-01  9.73100000e+01 ...  3.63000000e+02\n",
      "  -1.06534152e+01 -1.51000000e+00]]\n"
     ]
    }
   ],
   "source": [
    "features = ['T2M_RANGE', 'T2M', 'RH2M', 'PS', 'WS50M', 'WS10M',\n",
    "                  'WS50M_RANGE', 'WS10M_RANGE', 'ALLSKY_SFC_SW_DWN', 'DAY_OF_YEAR', 'SEASONAL', 'T2M_diff']\n",
    "target = ['T2M_future_1', 'T2M_future_2', 'T2M_future_3']\n",
    "\n",
    "def add_nth_day_feature(df, feature, N): #for T2M in future days\n",
    "    rows = df.shape[0]\n",
    "    nth_prior_measurements = [df[feature][i+N] for i in range(0, rows-N)] + [None]*N\n",
    "    col_name = \"{}_future_{}\".format(feature, N)\n",
    "    df[col_name] = nth_prior_measurements\n",
    "\n",
    "#add T2M 2 days in future\n",
    "for N in range(1, 4):\n",
    "    add_nth_day_feature(raw_data, 'T2M', N)\n",
    "\n",
    "#drop NA\n",
    "raw_data = raw_data.dropna()\n",
    "\n",
    "print(raw_data.shape)\n",
    "\n",
    "X = pd.DataFrame()\n",
    "Y = pd.DataFrame()\n",
    "for feature in raw_data.columns:\n",
    "    if feature in features:  # get useful data\n",
    "        X[feature] = raw_data[feature]\n",
    "\n",
    "for feature in target:\n",
    "    Y[feature] = raw_data[feature]\n",
    "\n",
    "from sklearn.model_selection import train_test_split\n",
    "leng = int(X.shape[0] * 0.8)\n",
    "\n",
    "X_train, X_test = X[:leng].values, X[leng:].values\n",
    "Y_train, Y_test = Y[:leng].values, Y[leng:].values\n",
    "# X_train, X_test = X[:913].values, X[913:].values\n",
    "# Y_train, Y_test = Y[:913].values, Y[913:].values\n",
    "\n",
    "print(X_train.shape, X_test.shape)\n",
    "print(Y_train.shape, Y_test.shape)\n",
    "# X_train, X_test, Y_train, Y_test = train_test_split(X, Y, test_size=0.2, random_state=12)\n",
    "#\n",
    "# X_train = torch.tensor(X_train.values.astype(np.float32))\n",
    "# X_test = torch.tensor(X_test.values.astype(np.float32))\n",
    "# Y_train = torch.tensor(Y_train.values.astype(np.float32))\n",
    "# Y_test = torch.tensor(Y_test.values.astype(np.float32))\n",
    "\n",
    "print(X_train)\n"
   ],
   "metadata": {
    "collapsed": false,
    "pycharm": {
     "name": "#%%\n"
    }
   }
  },
  {
   "cell_type": "code",
   "execution_count": 14,
   "outputs": [],
   "source": [
    "def get_batches(X, Y, n_seqs, n_steps):\n",
    "    '''Create a generator that returns batches of size'''\n",
    "    batch_size = n_seqs * n_steps\n",
    "    n_batches = len(X)//batch_size #how many this batches will fit\n",
    "\n",
    "    # Keep only enough characters to make full batches\n",
    "\n",
    "    X = X[:n_batches * batch_size]\n",
    "    Y = Y[:n_batches * batch_size]\n",
    "\n",
    "\n",
    "    # Reshape into n_seqs rows\n",
    "    # arr = arr.reshape((n_seqs, -1))\n",
    "\n",
    "    for n in range(0, n_batches):\n",
    "        iterator = 0\n",
    "        x = []\n",
    "        y = []\n",
    "        for i in range(n_seqs):\n",
    "            temp_x = []\n",
    "            temp_y = []\n",
    "            for j in range(n_steps):\n",
    "                temp_x.append(X[i*n_steps + j])\n",
    "                temp_y.append(Y[i*n_steps + j])\n",
    "            x.append(temp_x)\n",
    "            y.append(temp_y)\n",
    "\n",
    "        yield x, y"
   ],
   "metadata": {
    "collapsed": false,
    "pycharm": {
     "name": "#%%\n"
    }
   }
  },
  {
   "cell_type": "code",
   "execution_count": 15,
   "outputs": [],
   "source": [
    "# gen = get_batches(X_train,Y_train,2,2)\n",
    "# x, y = next(gen)\n",
    "# x, y = np.asarray(x), np.asarray(y)\n",
    "# print(x.shape)"
   ],
   "metadata": {
    "collapsed": false,
    "pycharm": {
     "name": "#%% test\n"
    }
   }
  },
  {
   "cell_type": "markdown",
   "source": [
    "# make models and functions"
   ],
   "metadata": {
    "collapsed": false,
    "pycharm": {
     "name": "#%% md\n"
    }
   }
  },
  {
   "cell_type": "code",
   "execution_count": 16,
   "outputs": [],
   "source": [
    "class myLSTM(nn.Module):\n",
    "\n",
    "    # Constructor\n",
    "    def __init__(self, input_size, hidden_size, output_size, num_layers=2, dropout_p=0.05):\n",
    "        super(myLSTM, self).__init__()\n",
    "        self.n_layers = num_layers\n",
    "        self.n_hidden = hidden_size\n",
    "        self.lstm = nn.LSTM(input_size, hidden_size, num_layers, batch_first = True, dropout = dropout_p)\n",
    "        self.dropout = nn.Dropout(dropout_p)\n",
    "        self.final = nn.Linear(hidden_size, output_size)\n",
    "        self.init_weights()\n",
    "        self.cuda()\n",
    "\n",
    "    # Prediction function\n",
    "    def forward(self, x, hc):\n",
    "        x, (h, c) = self.lstm(x, hc)\n",
    "        x = self.dropout(x)\n",
    "        x = self.final(x)\n",
    "        return x, (h, c)\n",
    "\n",
    "    def init_weights(self):\n",
    "        self.final.bias.data.fill_(0) # set bias to 0\n",
    "        self.final.weight.data.uniform_(-1,1)\n",
    "\n",
    "    def init_hidden(self, n_seqs):\n",
    "        ''' Initializes hidden state '''\n",
    "        # Create two new tensors with sizes n_layers x n_seqs x n_hidden,\n",
    "        # initialized to zero, for hidden state and cell state of LSTM\n",
    "        weight = next(self.parameters()).data\n",
    "        a = weight.new(self.n_layers, n_seqs, self.n_hidden).zero_().double()\n",
    "        a = a.type(torch.DoubleTensor)\n",
    "        a = a.cuda()\n",
    "        b = weight.new(self.n_layers, n_seqs, self.n_hidden).zero_().double()\n",
    "        b = b.type(torch.DoubleTensor)\n",
    "        b = b.cuda()\n",
    "        return (a,b)"
   ],
   "metadata": {
    "collapsed": false,
    "pycharm": {
     "name": "#%%\n"
    }
   }
  },
  {
   "cell_type": "code",
   "execution_count": 17,
   "outputs": [],
   "source": [
    "def train(model, criterion, verification, X_train, Y_train, X_test, Y_test, optimizer, epochs=100, clip = 5, n_seq = 10, n_steps = 10):\n",
    "    i = 0\n",
    "    loss_accuracy = {'training_loss': [], 'validation_error': []}\n",
    "    model = model.double()\n",
    "    model.cuda()\n",
    "    # n_epochs\n",
    "    for epoch in range(epochs):\n",
    "        h = model.init_hidden(n_seq)\n",
    "\n",
    "        model.train()\n",
    "        for x,y in get_batches(X_train, Y_train, n_seq, n_steps):\n",
    "\n",
    "            x, y = np.asarray(x), np.asarray(y)\n",
    "            x, y = torch.from_numpy(x), torch.from_numpy(y)\n",
    "            x, y = x.cuda(), y.cuda()\n",
    "\n",
    "            h = tuple([each.data for each in h])\n",
    "\n",
    "            optimizer.zero_grad()\n",
    "            z, h = model(x, h)\n",
    "            loss = criterion(z, y)\n",
    "            loss.backward()\n",
    "\n",
    "            # `clip_grad_norm` helps prevent the exploding gradient problem in RNNs / LSTMs.\n",
    "            nn.utils.clip_grad_norm_(model.parameters(), clip)\n",
    "\n",
    "            optimizer.step()\n",
    "\n",
    "            train_error = verification(z, y)\n",
    "            loss_accuracy['training_loss'].append(train_error)\n",
    "\n",
    "        # eval\n",
    "        model.eval()\n",
    "        h = model.init_hidden(n_seq)\n",
    "        for x,y in get_batches(X_test, Y_test, n_seq, n_steps):\n",
    "\n",
    "            x, y = np.asarray(x), np.asarray(y)\n",
    "            x, y = torch.from_numpy(x), torch.from_numpy(y)\n",
    "            x, y = x.cuda(), y.cuda()\n",
    "\n",
    "            h = tuple([each.data for each in h])\n",
    "\n",
    "            yhat, h = model(x, h)\n",
    "            val_error = verification(yhat, y)\n",
    "            loss_accuracy['validation_error'].append(val_error)\n",
    "\n",
    "\n",
    "    # print(yhat)\n",
    "    # print(Y_test)\n",
    "    return loss_accuracy\n"
   ],
   "metadata": {
    "collapsed": false,
    "pycharm": {
     "name": "#%%\n"
    }
   }
  },
  {
   "cell_type": "code",
   "execution_count": 18,
   "outputs": [],
   "source": [
    "lstm_model = myLSTM(len(features), len(features)*3, len(target), num_layers = 2, dropout_p = 0.2)\n",
    "\n",
    "learning_rate = 0.001\n",
    "optimizer = torch.optim.Adam(lstm_model.parameters(), lr = learning_rate)\n",
    "criterion = torch.nn.MSELoss()\n",
    "verification = torch.nn.L1Loss()\\\n",
    "\n",
    "results = train(lstm_model, criterion, verification, X_train, Y_train, X_test, Y_test, optimizer, epochs=400, n_seq = 10, n_steps = 10)"
   ],
   "metadata": {
    "collapsed": false,
    "pycharm": {
     "name": "#%% make class\n"
    }
   }
  },
  {
   "cell_type": "code",
   "execution_count": 19,
   "outputs": [
    {
     "data": {
      "text/plain": "[]"
     },
     "execution_count": 19,
     "metadata": {},
     "output_type": "execute_result"
    },
    {
     "data": {
      "text/plain": "<Figure size 432x288 with 1 Axes>",
      "image/png": "[encoded data removed]"
     },
     "metadata": {
      "needs_background": "light"
     },
     "output_type": "display_data"
    }
   ],
   "source": [
    "plt.plot(results['training_loss'], label='training loss')\n",
    "plt.plot(results['validation_error'], label='validation loss')\n",
    "plt.title(f\"minimum validation error: {min(results['validation_error'])}\")\n",
    "plt.grid()\n",
    "plt.legend()\n",
    "# plt.draw()\n",
    "# plt.show(block=True)\n",
    "plt.plot()"
   ],
   "metadata": {
    "collapsed": false,
    "pycharm": {
     "name": "#%% plot the results\n"
    }
   }
  },
  {
   "cell_type": "code",
   "execution_count": 21,
   "outputs": [],
   "source": [
    "checkpoint = {'n_hidden': lstm_model.n_hidden,\n",
    "              'n_layers': lstm_model.n_layers,\n",
    "              'state_dict': lstm_model.state_dict(),\n",
    "              'model': lstm_model,\n",
    "            }\n",
    "\n",
    "torch.save(checkpoint, f'nn_models/LSTM.pt')"
   ],
   "metadata": {
    "collapsed": false,
    "pycharm": {
     "name": "#%% save the model\n"
    }
   }
  },
  {
   "cell_type": "markdown",
   "source": [
    "# conclusion\n",
    "\n",
    "As it it seen, the validation result is also around ~2.0*C, not much more information can be squeezed\n",
    "out of dataset.\n",
    "\n",
    "The training error is reaching value 0.5, which is 4 time smaller then in simple NN. In this case it\n",
    "is overfitting our dataset, but also indicates that LSTM draws relationships between features much better\n",
    "which can be really powerful with bigger dataset and much more features.\n",
    "\n"
   ],
   "metadata": {
    "collapsed": false,
    "pycharm": {
     "name": "#%% md\n"
    }
   }
  }
 ],
 "metadata": {
  "kernelspec": {
   "display_name": "Python 3",
   "language": "python",
   "name": "python3"
  },
  "language_info": {
   "codemirror_mode": {
    "name": "ipython",
    "version": 2
   },
   "file_extension": ".py",
   "mimetype": "text/x-python",
   "name": "python",
   "nbconvert_exporter": "python",
   "pygments_lexer": "ipython2",
   "version": "2.7.6"
  }
 },
 "nbformat": 4,
 "nbformat_minor": 0
}